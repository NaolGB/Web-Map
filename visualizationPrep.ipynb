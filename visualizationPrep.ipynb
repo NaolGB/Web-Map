{
 "cells": [
  {
   "cell_type": "code",
   "execution_count": 4,
   "metadata": {},
   "outputs": [],
   "source": [
    "import pandas as pd\n",
    "from utils import secrets\n",
    "import mysql.connector\n",
    "from tldextract import extract"
   ]
  },
  {
   "cell_type": "code",
   "execution_count": 5,
   "metadata": {},
   "outputs": [],
   "source": [
    "db = mysql.connector.connect(\n",
    "        host = 'localhost',\n",
    "        user = 'root',\n",
    "        password = secrets.MYSQL_PWD,\n",
    "        database = 'MapTheInternet',\n",
    "        autocommit = True\n",
    "    )"
   ]
  },
  {
   "cell_type": "code",
   "execution_count": 6,
   "metadata": {},
   "outputs": [
    {
     "name": "stderr",
     "output_type": "stream",
     "text": [
      "/var/folders/zl/1tvb16z55nl5z3qjjlv168lr0000gn/T/ipykernel_1886/2300359958.py:1: UserWarning: pandas only supports SQLAlchemy connectable (engine/connection) or database string URI or sqlite3 DBAPI2 connection. Other DBAPI2 objects are not tested. Please consider using SQLAlchemy.\n",
      "  domains = pd.read_sql(sql='SELECT * FROM domains', con=db)\n"
     ]
    }
   ],
   "source": [
    "domains = pd.read_sql(sql='SELECT * FROM domains', con=db)"
   ]
  },
  {
   "cell_type": "code",
   "execution_count": 7,
   "metadata": {},
   "outputs": [],
   "source": [
    "domains.drop('id', axis=1, inplace=True)"
   ]
  },
  {
   "cell_type": "code",
   "execution_count": 8,
   "metadata": {},
   "outputs": [
    {
     "name": "stderr",
     "output_type": "stream",
     "text": [
      "/var/folders/zl/1tvb16z55nl5z3qjjlv168lr0000gn/T/ipykernel_1886/3262769879.py:5: FutureWarning: The default value of numeric_only in DataFrameGroupBy.sum is deprecated. In a future version, numeric_only will default to False. Either specify numeric_only or select only columns which should be valid for the function.\n",
      "  domains = domains.groupby(['domain'], as_index=False).sum()\n"
     ]
    }
   ],
   "source": [
    "# replace the http to group by domains in case different websites used different protocols to connect to the same website (http, https)\n",
    "domains['domain'] = domains['domain'].str.replace('https://', '')\n",
    "domains['domain'] = domains['domain'].str.replace('http://', '')\n",
    "\n",
    "domains = domains.groupby(['domain'], as_index=False).sum()"
   ]
  },
  {
   "cell_type": "code",
   "execution_count": 9,
   "metadata": {},
   "outputs": [],
   "source": [
    "# clean up damaged links\n",
    "blankIndices = domains[domains['domain'].str.contains(' ')].index\n",
    "domains.drop(blankIndices, inplace=True)\n",
    "\n",
    "damagedIndices = domains[domains['domain'].str.startswith('.')].index\n",
    "domains.drop(damagedIndices, inplace=True)"
   ]
  },
  {
   "cell_type": "code",
   "execution_count": 10,
   "metadata": {},
   "outputs": [],
   "source": [
    "# extract suffixes (top level domain) for filtering and visualization\n",
    "domains['suffix'] = domains['domain'].str.split('.').str[-1]\n",
    "domains = domains.mask(domains == '')\n",
    "domains.dropna(inplace=True)"
   ]
  },
  {
   "cell_type": "code",
   "execution_count": 11,
   "metadata": {},
   "outputs": [],
   "source": [
    "domains = domains.sort_values(by='numIncomingLinks', ascending=False)"
   ]
  },
  {
   "cell_type": "code",
   "execution_count": 12,
   "metadata": {},
   "outputs": [
    {
     "data": {
      "text/html": [
       "<div>\n",
       "<style scoped>\n",
       "    .dataframe tbody tr th:only-of-type {\n",
       "        vertical-align: middle;\n",
       "    }\n",
       "\n",
       "    .dataframe tbody tr th {\n",
       "        vertical-align: top;\n",
       "    }\n",
       "\n",
       "    .dataframe thead th {\n",
       "        text-align: right;\n",
       "    }\n",
       "</style>\n",
       "<table border=\"1\" class=\"dataframe\">\n",
       "  <thead>\n",
       "    <tr style=\"text-align: right;\">\n",
       "      <th></th>\n",
       "      <th>domain</th>\n",
       "      <th>numIncomingLinks</th>\n",
       "      <th>numInternalLinks</th>\n",
       "      <th>suffix</th>\n",
       "    </tr>\n",
       "  </thead>\n",
       "  <tbody>\n",
       "    <tr>\n",
       "      <th>966334</th>\n",
       "      <td>twitter.com</td>\n",
       "      <td>442390</td>\n",
       "      <td>6</td>\n",
       "      <td>com</td>\n",
       "    </tr>\n",
       "    <tr>\n",
       "      <th>320969</th>\n",
       "      <td>facebook.com</td>\n",
       "      <td>395626</td>\n",
       "      <td>18</td>\n",
       "      <td>com</td>\n",
       "    </tr>\n",
       "    <tr>\n",
       "      <th>472860</th>\n",
       "      <td>instagram.com</td>\n",
       "      <td>274760</td>\n",
       "      <td>0</td>\n",
       "      <td>com</td>\n",
       "    </tr>\n",
       "    <tr>\n",
       "      <th>1068103</th>\n",
       "      <td>youtube.com</td>\n",
       "      <td>231750</td>\n",
       "      <td>7</td>\n",
       "      <td>com</td>\n",
       "    </tr>\n",
       "    <tr>\n",
       "      <th>46668</th>\n",
       "      <td>adesignaward.com</td>\n",
       "      <td>223909</td>\n",
       "      <td>0</td>\n",
       "      <td>com</td>\n",
       "    </tr>\n",
       "    <tr>\n",
       "      <th>...</th>\n",
       "      <td>...</td>\n",
       "      <td>...</td>\n",
       "      <td>...</td>\n",
       "      <td>...</td>\n",
       "    </tr>\n",
       "    <tr>\n",
       "      <th>706706</th>\n",
       "      <td>osen2020.cn</td>\n",
       "      <td>1</td>\n",
       "      <td>0</td>\n",
       "      <td>cn</td>\n",
       "    </tr>\n",
       "    <tr>\n",
       "      <th>706705</th>\n",
       "      <td>osen-voc.com</td>\n",
       "      <td>1</td>\n",
       "      <td>0</td>\n",
       "      <td>com</td>\n",
       "    </tr>\n",
       "    <tr>\n",
       "      <th>706702</th>\n",
       "      <td>osen-smoke.com</td>\n",
       "      <td>1</td>\n",
       "      <td>0</td>\n",
       "      <td>com</td>\n",
       "    </tr>\n",
       "    <tr>\n",
       "      <th>4</th>\n",
       "      <td>\\r\\ntzshuo.com</td>\n",
       "      <td>1</td>\n",
       "      <td>0</td>\n",
       "      <td>com</td>\n",
       "    </tr>\n",
       "    <tr>\n",
       "      <th>667401</th>\n",
       "      <td>news.yahoo.co.jp</td>\n",
       "      <td>0</td>\n",
       "      <td>0</td>\n",
       "      <td>jp</td>\n",
       "    </tr>\n",
       "  </tbody>\n",
       "</table>\n",
       "<p>1089079 rows × 4 columns</p>\n",
       "</div>"
      ],
      "text/plain": [
       "                   domain  numIncomingLinks  numInternalLinks suffix\n",
       "966334        twitter.com            442390                 6    com\n",
       "320969       facebook.com            395626                18    com\n",
       "472860      instagram.com            274760                 0    com\n",
       "1068103       youtube.com            231750                 7    com\n",
       "46668    adesignaward.com            223909                 0    com\n",
       "...                   ...               ...               ...    ...\n",
       "706706        osen2020.cn                 1                 0     cn\n",
       "706705       osen-voc.com                 1                 0    com\n",
       "706702     osen-smoke.com                 1                 0    com\n",
       "4          \\r\\ntzshuo.com                 1                 0    com\n",
       "667401   news.yahoo.co.jp                 0                 0     jp\n",
       "\n",
       "[1089079 rows x 4 columns]"
      ]
     },
     "execution_count": 12,
     "metadata": {},
     "output_type": "execute_result"
    }
   ],
   "source": [
    "domains"
   ]
  },
  {
   "cell_type": "markdown",
   "metadata": {},
   "source": [
    "### Explanation of the columns:\n",
    "- domain: the url of a website\n",
    "  - https://www.google.com/search? has google.com and so does https://drive.google.com/\n",
    "- numIncomingLins: the number of times other websites linked to this website\n",
    "  - if https://www.facebook.com/marketplace/?ref=bookmark has a link to  https://drive.google.com/ then the numIncomingLinks of google.com is increased by 1\n",
    "- numInternalLinks: the number of time a page has a link to another page with the same domain\n",
    "  - if https://drive.google.com/ has a link to https://www.google.com/search? then the numIntenalLinks of google.com is increased by 1 since bothe pages are from the same domain\n",
    "- suffix: the top level domain of the website\n",
    "  - google.com has 'com' as a suffix"
   ]
  },
  {
   "cell_type": "code",
   "execution_count": 13,
   "metadata": {},
   "outputs": [],
   "source": [
    "domains.to_csv('data/domains.csv', index=False)"
   ]
  },
  {
   "cell_type": "code",
   "execution_count": null,
   "metadata": {},
   "outputs": [],
   "source": []
  }
 ],
 "metadata": {
  "kernelspec": {
   "display_name": "Python 3.8.13",
   "language": "python",
   "name": "python3"
  },
  "language_info": {
   "codemirror_mode": {
    "name": "ipython",
    "version": 3
   },
   "file_extension": ".py",
   "mimetype": "text/x-python",
   "name": "python",
   "nbconvert_exporter": "python",
   "pygments_lexer": "ipython3",
   "version": "3.8.13"
  },
  "orig_nbformat": 4,
  "vscode": {
   "interpreter": {
    "hash": "0c8bc60f263517ba85558205d6901a13645abc964d71a76978cdd66291dd3227"
   }
  }
 },
 "nbformat": 4,
 "nbformat_minor": 2
}
