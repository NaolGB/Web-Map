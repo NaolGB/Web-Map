{
 "cells": [
  {
   "cell_type": "code",
   "execution_count": 1,
   "metadata": {},
   "outputs": [],
   "source": [
    "import pandas as pd\n",
    "from utils import secrets\n",
    "import mysql.connector\n",
    "from tldextract import extract"
   ]
  },
  {
   "cell_type": "code",
   "execution_count": 2,
   "metadata": {},
   "outputs": [],
   "source": [
    "db = mysql.connector.connect(\n",
    "        host = 'localhost',\n",
    "        user = 'root',\n",
    "        password = secrets.MYSQL_PWD,\n",
    "        database = 'MapTheInternet',\n",
    "        autocommit = True\n",
    "    )"
   ]
  },
  {
   "cell_type": "code",
   "execution_count": 3,
   "metadata": {},
   "outputs": [
    {
     "name": "stderr",
     "output_type": "stream",
     "text": [
      "/var/folders/zl/1tvb16z55nl5z3qjjlv168lr0000gn/T/ipykernel_12566/2300359958.py:1: UserWarning: pandas only supports SQLAlchemy connectable (engine/connection) or database string URI or sqlite3 DBAPI2 connection. Other DBAPI2 objects are not tested. Please consider using SQLAlchemy.\n",
      "  domains = pd.read_sql(sql='SELECT * FROM domains', con=db)\n"
     ]
    }
   ],
   "source": [
    "domains = pd.read_sql(sql='SELECT * FROM domains', con=db)"
   ]
  },
  {
   "cell_type": "code",
   "execution_count": 4,
   "metadata": {},
   "outputs": [],
   "source": [
    "domains.drop('id', axis=1, inplace=True)"
   ]
  },
  {
   "cell_type": "code",
   "execution_count": 5,
   "metadata": {},
   "outputs": [
    {
     "name": "stderr",
     "output_type": "stream",
     "text": [
      "/var/folders/zl/1tvb16z55nl5z3qjjlv168lr0000gn/T/ipykernel_12566/3262769879.py:5: FutureWarning: The default value of numeric_only in DataFrameGroupBy.sum is deprecated. In a future version, numeric_only will default to False. Either specify numeric_only or select only columns which should be valid for the function.\n",
      "  domains = domains.groupby(['domain'], as_index=False).sum()\n"
     ]
    }
   ],
   "source": [
    "# replace the http to group by domains in case different websites used different protocols to connect to the same website (http, https)\n",
    "domains['domain'] = domains['domain'].str.replace('https://', '')\n",
    "domains['domain'] = domains['domain'].str.replace('http://', '')\n",
    "\n",
    "domains = domains.groupby(['domain'], as_index=False).sum()"
   ]
  },
  {
   "cell_type": "code",
   "execution_count": 6,
   "metadata": {},
   "outputs": [],
   "source": [
    "# clean up damaged links\n",
    "blankIndices = domains[domains['domain'].str.contains(' ')].index\n",
    "domains.drop(blankIndices, inplace=True)\n",
    "\n",
    "damagedIndices = domains[domains['domain'].str.startswith('.')].index\n",
    "domains.drop(damagedIndices, inplace=True)"
   ]
  },
  {
   "cell_type": "code",
   "execution_count": 7,
   "metadata": {},
   "outputs": [],
   "source": [
    "# extract suffixes (top level domain) for filtering and visualization\n",
    "domains['suffix'] = domains['domain'].str.split('.').str[-1]\n",
    "domains = domains.mask(domains == '')\n",
    "domains.dropna(inplace=True)"
   ]
  },
  {
   "cell_type": "code",
   "execution_count": 9,
   "metadata": {},
   "outputs": [],
   "source": [
    "domains = domains.sort_values(by='numIncomingLinks', ascending=False)"
   ]
  },
  {
   "cell_type": "code",
   "execution_count": 10,
   "metadata": {},
   "outputs": [
    {
     "data": {
      "text/html": [
       "<div>\n",
       "<style scoped>\n",
       "    .dataframe tbody tr th:only-of-type {\n",
       "        vertical-align: middle;\n",
       "    }\n",
       "\n",
       "    .dataframe tbody tr th {\n",
       "        vertical-align: top;\n",
       "    }\n",
       "\n",
       "    .dataframe thead th {\n",
       "        text-align: right;\n",
       "    }\n",
       "</style>\n",
       "<table border=\"1\" class=\"dataframe\">\n",
       "  <thead>\n",
       "    <tr style=\"text-align: right;\">\n",
       "      <th></th>\n",
       "      <th>domain</th>\n",
       "      <th>numIncomingLinks</th>\n",
       "      <th>numInternalLinks</th>\n",
       "      <th>suffix</th>\n",
       "    </tr>\n",
       "  </thead>\n",
       "  <tbody>\n",
       "    <tr>\n",
       "      <th>848634</th>\n",
       "      <td>twitter.com</td>\n",
       "      <td>387985</td>\n",
       "      <td>6</td>\n",
       "      <td>com</td>\n",
       "    </tr>\n",
       "    <tr>\n",
       "      <th>280836</th>\n",
       "      <td>facebook.com</td>\n",
       "      <td>332419</td>\n",
       "      <td>18</td>\n",
       "      <td>com</td>\n",
       "    </tr>\n",
       "    <tr>\n",
       "      <th>414610</th>\n",
       "      <td>instagram.com</td>\n",
       "      <td>229478</td>\n",
       "      <td>0</td>\n",
       "      <td>com</td>\n",
       "    </tr>\n",
       "    <tr>\n",
       "      <th>41243</th>\n",
       "      <td>adesignaward.com</td>\n",
       "      <td>208528</td>\n",
       "      <td>0</td>\n",
       "      <td>com</td>\n",
       "    </tr>\n",
       "    <tr>\n",
       "      <th>938047</th>\n",
       "      <td>youtube.com</td>\n",
       "      <td>193819</td>\n",
       "      <td>7</td>\n",
       "      <td>com</td>\n",
       "    </tr>\n",
       "    <tr>\n",
       "      <th>...</th>\n",
       "      <td>...</td>\n",
       "      <td>...</td>\n",
       "      <td>...</td>\n",
       "      <td>...</td>\n",
       "    </tr>\n",
       "    <tr>\n",
       "      <th>476505</th>\n",
       "      <td>kuchutimes.com</td>\n",
       "      <td>1</td>\n",
       "      <td>0</td>\n",
       "      <td>com</td>\n",
       "    </tr>\n",
       "    <tr>\n",
       "      <th>476502</th>\n",
       "      <td>kuchniazasciana.pl</td>\n",
       "      <td>1</td>\n",
       "      <td>0</td>\n",
       "      <td>pl</td>\n",
       "    </tr>\n",
       "    <tr>\n",
       "      <th>476501</th>\n",
       "      <td>kuchniaonline.pl</td>\n",
       "      <td>1</td>\n",
       "      <td>84</td>\n",
       "      <td>pl</td>\n",
       "    </tr>\n",
       "    <tr>\n",
       "      <th>476500</th>\n",
       "      <td>kuchnialidla.pl</td>\n",
       "      <td>1</td>\n",
       "      <td>0</td>\n",
       "      <td>pl</td>\n",
       "    </tr>\n",
       "    <tr>\n",
       "      <th>585432</th>\n",
       "      <td>news.yahoo.co.jp</td>\n",
       "      <td>0</td>\n",
       "      <td>0</td>\n",
       "      <td>jp</td>\n",
       "    </tr>\n",
       "  </tbody>\n",
       "</table>\n",
       "<p>956748 rows × 4 columns</p>\n",
       "</div>"
      ],
      "text/plain": [
       "                    domain  numIncomingLinks  numInternalLinks suffix\n",
       "848634         twitter.com            387985                 6    com\n",
       "280836        facebook.com            332419                18    com\n",
       "414610       instagram.com            229478                 0    com\n",
       "41243     adesignaward.com            208528                 0    com\n",
       "938047         youtube.com            193819                 7    com\n",
       "...                    ...               ...               ...    ...\n",
       "476505      kuchutimes.com                 1                 0    com\n",
       "476502  kuchniazasciana.pl                 1                 0     pl\n",
       "476501    kuchniaonline.pl                 1                84     pl\n",
       "476500     kuchnialidla.pl                 1                 0     pl\n",
       "585432    news.yahoo.co.jp                 0                 0     jp\n",
       "\n",
       "[956748 rows x 4 columns]"
      ]
     },
     "execution_count": 10,
     "metadata": {},
     "output_type": "execute_result"
    }
   ],
   "source": [
    "domains"
   ]
  },
  {
   "cell_type": "markdown",
   "metadata": {},
   "source": [
    "### Explanation of the columns:\n",
    "- domain: the url of a website\n",
    "  - https://www.google.com/search? has google.com and so does https://drive.google.com/\n",
    "- numIncomingLins: the number of times other websites linked to this website\n",
    "  - if https://www.facebook.com/marketplace/?ref=bookmark has a link to  https://drive.google.com/ then the numIncomingLinks of google.com is increased by 1\n",
    "- numInternalLinks: the number of time a page has a link to another page with the same domain\n",
    "  - if https://drive.google.com/ has a link to https://www.google.com/search? then the numIntenalLinks of google.com is increased by 1 since bothe pages are from the same domain\n",
    "- suffix: the top level domain of the website\n",
    "  - google.com has 'com' as a suffix"
   ]
  },
  {
   "cell_type": "code",
   "execution_count": 22,
   "metadata": {},
   "outputs": [],
   "source": [
    "domains.to_csv('data/domains.csv', index=False)"
   ]
  }
 ],
 "metadata": {
  "kernelspec": {
   "display_name": "MapTheInternet",
   "language": "python",
   "name": "maptheinternet"
  },
  "language_info": {
   "codemirror_mode": {
    "name": "ipython",
    "version": 3
   },
   "file_extension": ".py",
   "mimetype": "text/x-python",
   "name": "python",
   "nbconvert_exporter": "python",
   "pygments_lexer": "ipython3",
   "version": "3.8.13"
  },
  "orig_nbformat": 4,
  "vscode": {
   "interpreter": {
    "hash": "9d26d57f08565f0d070a463b8bdec25fd3f8b9f06c15d66b1e8a41329cf86105"
   }
  }
 },
 "nbformat": 4,
 "nbformat_minor": 2
}
